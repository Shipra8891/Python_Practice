{
 "cells": [
  {
   "cell_type": "code",
   "execution_count": 5,
   "id": "620e2dfb-7ff4-4058-ae6f-e1a800c392fc",
   "metadata": {},
   "outputs": [],
   "source": [
    "# Data Cleaning - fixing bad data in data set\n",
    "# bad data - empty cells, wrong data, duplicates, data in wrong format"
   ]
  },
  {
   "cell_type": "code",
   "execution_count": 1,
   "id": "4ef3da57-6f41-4fb6-aab7-1c38ff05c1ac",
   "metadata": {},
   "outputs": [],
   "source": [
    "import pandas as pd\n",
    "import numpy as np"
   ]
  },
  {
   "cell_type": "code",
   "execution_count": 2,
   "id": "0bf31cea-6ab1-4ee7-ab2c-02deafffb745",
   "metadata": {},
   "outputs": [
    {
     "name": "stdout",
     "output_type": "stream",
     "text": [
      "       name        Toy       Born\n",
      "0    Alfred        NaN        NaT\n",
      "1    Batman  Batmobile 1940-04-25\n",
      "2  Catwoman   Bullwhip        NaT\n"
     ]
    }
   ],
   "source": [
    "# Cleaning Empty Cells\n",
    "\n",
    "df = pd.DataFrame({'name':['Alfred', 'Batman', 'Catwoman'],\n",
    "                   'Toy':[np.nan, 'Batmobile', 'Bullwhip'],\n",
    "                   'Born':[pd.NaT, pd.Timestamp('1940-04-25'),pd.NaT]})\n",
    "\n",
    "print(df)                                                "
   ]
  },
  {
   "cell_type": "code",
   "execution_count": 34,
   "id": "adc1dc72-2ef2-4f6d-b301-2a15f601d2f0",
   "metadata": {},
   "outputs": [
    {
     "name": "stdout",
     "output_type": "stream",
     "text": [
      "<class 'pandas.core.frame.DataFrame'>\n",
      "RangeIndex: 3 entries, 0 to 2\n",
      "Data columns (total 3 columns):\n",
      " #   Column  Non-Null Count  Dtype         \n",
      "---  ------  --------------  -----         \n",
      " 0   name    3 non-null      object        \n",
      " 1   Toy     2 non-null      object        \n",
      " 2   Born    1 non-null      datetime64[ns]\n",
      "dtypes: datetime64[ns](1), object(2)\n",
      "memory usage: 204.0+ bytes\n",
      "None\n"
     ]
    }
   ],
   "source": [
    "print(df.info())"
   ]
  },
  {
   "cell_type": "code",
   "execution_count": 11,
   "id": "4e258c8f-81c6-4588-9710-c2aac70ea9a9",
   "metadata": {},
   "outputs": [
    {
     "name": "stdout",
     "output_type": "stream",
     "text": [
      "     name        Toy       Born\n",
      "1  Batman  Batmobile 1940-04-25\n"
     ]
    }
   ],
   "source": [
    "df1 = df.dropna()\n",
    "print(df1)"
   ]
  },
  {
   "cell_type": "code",
   "execution_count": null,
   "id": "df587805-02f5-4afe-b92d-c635ce0d2085",
   "metadata": {},
   "outputs": [],
   "source": [
    "# Replace Empty Values -"
   ]
  },
  {
   "cell_type": "code",
   "execution_count": 35,
   "id": "7a83f4f8-ac62-448f-872d-1db2a9a57a7c",
   "metadata": {},
   "outputs": [
    {
     "name": "stdout",
     "output_type": "stream",
     "text": [
      "       name        Toy       Born\n",
      "0    Alfred        NaN        NaT\n",
      "1      <NA>  Batmobile 1940-04-25\n",
      "2  Catwoman   Bullwhip        NaT\n"
     ]
    }
   ],
   "source": [
    "df = pd.DataFrame({'name':['Alfred', pd.NA, 'Catwoman'],\n",
    "                   'Toy':[np.nan, 'Batmobile', 'Bullwhip'],\n",
    "                   'Born':[pd.NaT, pd.Timestamp('1940-04-25'),pd.NaT]})\n",
    "\n",
    "print(df)                                                "
   ]
  },
  {
   "cell_type": "code",
   "execution_count": 37,
   "id": "691f370e-477b-4148-9da5-b172abc8cfe8",
   "metadata": {},
   "outputs": [
    {
     "name": "stdout",
     "output_type": "stream",
     "text": [
      "       name        Toy                 Born\n",
      "0    Alfred        130                  130\n",
      "1       130  Batmobile  1940-04-25 00:00:00\n",
      "2  Catwoman   Bullwhip                  130\n"
     ]
    }
   ],
   "source": [
    "df.fillna(130, inplace = True)\n",
    "print(df)"
   ]
  },
  {
   "cell_type": "code",
   "execution_count": 38,
   "id": "24a0d3ac-f2bc-43bc-ac9e-e17063acc766",
   "metadata": {},
   "outputs": [],
   "source": [
    "# Replace only for specified columns"
   ]
  },
  {
   "cell_type": "code",
   "execution_count": 39,
   "id": "dc823be0-58fd-4f85-b7d8-ad8b74fe84ed",
   "metadata": {},
   "outputs": [
    {
     "data": {
      "text/html": [
       "<div>\n",
       "<style scoped>\n",
       "    .dataframe tbody tr th:only-of-type {\n",
       "        vertical-align: middle;\n",
       "    }\n",
       "\n",
       "    .dataframe tbody tr th {\n",
       "        vertical-align: top;\n",
       "    }\n",
       "\n",
       "    .dataframe thead th {\n",
       "        text-align: right;\n",
       "    }\n",
       "</style>\n",
       "<table border=\"1\" class=\"dataframe\">\n",
       "  <thead>\n",
       "    <tr style=\"text-align: right;\">\n",
       "      <th></th>\n",
       "      <th>name</th>\n",
       "      <th>toy</th>\n",
       "      <th>born</th>\n",
       "    </tr>\n",
       "  </thead>\n",
       "  <tbody>\n",
       "    <tr>\n",
       "      <th>0</th>\n",
       "      <td>Alfred</td>\n",
       "      <td>NaN</td>\n",
       "      <td>NaT</td>\n",
       "    </tr>\n",
       "    <tr>\n",
       "      <th>1</th>\n",
       "      <td>&lt;NA&gt;</td>\n",
       "      <td>Batmobile</td>\n",
       "      <td>1940-04-25</td>\n",
       "    </tr>\n",
       "    <tr>\n",
       "      <th>2</th>\n",
       "      <td>Catwoman</td>\n",
       "      <td>Bullwhip</td>\n",
       "      <td>NaT</td>\n",
       "    </tr>\n",
       "  </tbody>\n",
       "</table>\n",
       "</div>"
      ],
      "text/plain": [
       "       name        toy       born\n",
       "0    Alfred        NaN        NaT\n",
       "1      <NA>  Batmobile 1940-04-25\n",
       "2  Catwoman   Bullwhip        NaT"
      ]
     },
     "execution_count": 39,
     "metadata": {},
     "output_type": "execute_result"
    }
   ],
   "source": [
    "df = pd.DataFrame({\"name\": ['Alfred', pd.NA, 'Catwoman'],\n",
    "                   \"toy\": [np.nan, 'Batmobile', 'Bullwhip'],\n",
    "                   \"born\": [pd.NaT, pd.Timestamp(\"1940-04-25\"),\n",
    "                            pd.NaT]})\n",
    "\n",
    "df"
   ]
  },
  {
   "cell_type": "code",
   "execution_count": 41,
   "id": "fd1fdc45-616e-4e40-b626-5e199032ec2c",
   "metadata": {},
   "outputs": [
    {
     "name": "stdout",
     "output_type": "stream",
     "text": [
      "       name        toy       born\n",
      "0    Alfred        NaN        NaT\n",
      "1    Batman  Batmobile 1940-04-25\n",
      "2  Catwoman   Bullwhip        NaT\n"
     ]
    }
   ],
   "source": [
    "df['name'].fillna('Batman',inplace = True)\n",
    "print(df)\n",
    "                 "
   ]
  },
  {
   "cell_type": "code",
   "execution_count": 43,
   "id": "f5700c98-6f32-427b-bc9c-ea2b85116559",
   "metadata": {},
   "outputs": [
    {
     "name": "stdout",
     "output_type": "stream",
     "text": [
      "       name        toy       born\n",
      "0    Alfred      Comic        NaT\n",
      "1    Batman  Batmobile 1940-04-25\n",
      "2  Catwoman   Bullwhip        NaT\n"
     ]
    }
   ],
   "source": [
    "df['toy'].fillna('Comic',inplace = True)\n",
    "print(df)"
   ]
  },
  {
   "cell_type": "code",
   "execution_count": 44,
   "id": "450e3009-ed6e-4809-97a1-ef013aeb035a",
   "metadata": {},
   "outputs": [
    {
     "name": "stdout",
     "output_type": "stream",
     "text": [
      "       name        toy       born\n",
      "0    Alfred      Comic 1950-05-20\n",
      "1    Batman  Batmobile 1940-04-25\n",
      "2  Catwoman   Bullwhip        NaT\n"
     ]
    }
   ],
   "source": [
    "df.loc[0,'born'] = '1950-05-20'\n",
    "print(df)"
   ]
  },
  {
   "cell_type": "code",
   "execution_count": 45,
   "id": "c88f6218-960d-4d1e-9bb7-cdecbde8d885",
   "metadata": {},
   "outputs": [],
   "source": [
    "# Replace using mean, median, mode\n",
    "# Pandas uses the mean(), median(), mode() method to calculate the values for specified column."
   ]
  },
  {
   "cell_type": "code",
   "execution_count": 46,
   "id": "27645231-ee4e-4515-8094-577bd36c77ef",
   "metadata": {},
   "outputs": [
    {
     "data": {
      "text/html": [
       "<div>\n",
       "<style scoped>\n",
       "    .dataframe tbody tr th:only-of-type {\n",
       "        vertical-align: middle;\n",
       "    }\n",
       "\n",
       "    .dataframe tbody tr th {\n",
       "        vertical-align: top;\n",
       "    }\n",
       "\n",
       "    .dataframe thead th {\n",
       "        text-align: right;\n",
       "    }\n",
       "</style>\n",
       "<table border=\"1\" class=\"dataframe\">\n",
       "  <thead>\n",
       "    <tr style=\"text-align: right;\">\n",
       "      <th></th>\n",
       "      <th>item</th>\n",
       "      <th>quantity</th>\n",
       "      <th>price</th>\n",
       "    </tr>\n",
       "  </thead>\n",
       "  <tbody>\n",
       "    <tr>\n",
       "      <th>0</th>\n",
       "      <td>milk</td>\n",
       "      <td>2</td>\n",
       "      <td>67</td>\n",
       "    </tr>\n",
       "    <tr>\n",
       "      <th>1</th>\n",
       "      <td>sugar</td>\n",
       "      <td>1</td>\n",
       "      <td>&lt;NA&gt;</td>\n",
       "    </tr>\n",
       "    <tr>\n",
       "      <th>2</th>\n",
       "      <td>chips</td>\n",
       "      <td>5</td>\n",
       "      <td>45</td>\n",
       "    </tr>\n",
       "    <tr>\n",
       "      <th>3</th>\n",
       "      <td>coffee</td>\n",
       "      <td>4</td>\n",
       "      <td>73</td>\n",
       "    </tr>\n",
       "  </tbody>\n",
       "</table>\n",
       "</div>"
      ],
      "text/plain": [
       "     item  quantity price\n",
       "0    milk         2    67\n",
       "1   sugar         1  <NA>\n",
       "2   chips         5    45\n",
       "3  coffee         4    73"
      ]
     },
     "execution_count": 46,
     "metadata": {},
     "output_type": "execute_result"
    }
   ],
   "source": [
    "df = pd.DataFrame({\"item\": [\"milk\",\"sugar\",\"chips\",\"coffee\"],\n",
    "                   \"quantity\": [2,1,5,4],\n",
    "                   \"price\": [67, pd.NA,45,73]})\n",
    "\n",
    "df"
   ]
  },
  {
   "cell_type": "code",
   "execution_count": 48,
   "id": "016dce88-d05b-4806-986c-8e7131d2eb81",
   "metadata": {},
   "outputs": [
    {
     "data": {
      "text/html": [
       "<div>\n",
       "<style scoped>\n",
       "    .dataframe tbody tr th:only-of-type {\n",
       "        vertical-align: middle;\n",
       "    }\n",
       "\n",
       "    .dataframe tbody tr th {\n",
       "        vertical-align: top;\n",
       "    }\n",
       "\n",
       "    .dataframe thead th {\n",
       "        text-align: right;\n",
       "    }\n",
       "</style>\n",
       "<table border=\"1\" class=\"dataframe\">\n",
       "  <thead>\n",
       "    <tr style=\"text-align: right;\">\n",
       "      <th></th>\n",
       "      <th>item</th>\n",
       "      <th>quantity</th>\n",
       "      <th>price</th>\n",
       "    </tr>\n",
       "  </thead>\n",
       "  <tbody>\n",
       "    <tr>\n",
       "      <th>0</th>\n",
       "      <td>milk</td>\n",
       "      <td>2</td>\n",
       "      <td>67.000000</td>\n",
       "    </tr>\n",
       "    <tr>\n",
       "      <th>1</th>\n",
       "      <td>sugar</td>\n",
       "      <td>1</td>\n",
       "      <td>61.666667</td>\n",
       "    </tr>\n",
       "    <tr>\n",
       "      <th>2</th>\n",
       "      <td>chips</td>\n",
       "      <td>5</td>\n",
       "      <td>45.000000</td>\n",
       "    </tr>\n",
       "    <tr>\n",
       "      <th>3</th>\n",
       "      <td>coffee</td>\n",
       "      <td>4</td>\n",
       "      <td>73.000000</td>\n",
       "    </tr>\n",
       "  </tbody>\n",
       "</table>\n",
       "</div>"
      ],
      "text/plain": [
       "     item  quantity      price\n",
       "0    milk         2  67.000000\n",
       "1   sugar         1  61.666667\n",
       "2   chips         5  45.000000\n",
       "3  coffee         4  73.000000"
      ]
     },
     "execution_count": 48,
     "metadata": {},
     "output_type": "execute_result"
    }
   ],
   "source": [
    "df['price'] = df['price'].fillna(df['price'].mean())\n",
    "df"
   ]
  },
  {
   "cell_type": "code",
   "execution_count": 51,
   "id": "cc447ff1-4c1e-467c-9296-cd188383c26a",
   "metadata": {},
   "outputs": [],
   "source": [
    "# cleaning data of wrong format\n"
   ]
  },
  {
   "cell_type": "code",
   "execution_count": 3,
   "id": "6d30c7ea-2c2a-483e-a8f7-8825f742a2b0",
   "metadata": {},
   "outputs": [
    {
     "data": {
      "text/html": [
       "<div>\n",
       "<style scoped>\n",
       "    .dataframe tbody tr th:only-of-type {\n",
       "        vertical-align: middle;\n",
       "    }\n",
       "\n",
       "    .dataframe tbody tr th {\n",
       "        vertical-align: top;\n",
       "    }\n",
       "\n",
       "    .dataframe thead th {\n",
       "        text-align: right;\n",
       "    }\n",
       "</style>\n",
       "<table border=\"1\" class=\"dataframe\">\n",
       "  <thead>\n",
       "    <tr style=\"text-align: right;\">\n",
       "      <th></th>\n",
       "      <th>Duration</th>\n",
       "      <th>Pulse</th>\n",
       "      <th>Calories</th>\n",
       "      <th>Date</th>\n",
       "    </tr>\n",
       "  </thead>\n",
       "  <tbody>\n",
       "    <tr>\n",
       "      <th>0</th>\n",
       "      <td>60</td>\n",
       "      <td>110</td>\n",
       "      <td>409.1</td>\n",
       "      <td>2020/12/01</td>\n",
       "    </tr>\n",
       "    <tr>\n",
       "      <th>1</th>\n",
       "      <td>60</td>\n",
       "      <td>117</td>\n",
       "      <td>479.0</td>\n",
       "      <td>2020/12/02</td>\n",
       "    </tr>\n",
       "    <tr>\n",
       "      <th>2</th>\n",
       "      <td>60</td>\n",
       "      <td>103</td>\n",
       "      <td>340.0</td>\n",
       "      <td>20201203</td>\n",
       "    </tr>\n",
       "    <tr>\n",
       "      <th>3</th>\n",
       "      <td>45</td>\n",
       "      <td>109</td>\n",
       "      <td>282.4</td>\n",
       "      <td>2020/12/04</td>\n",
       "    </tr>\n",
       "    <tr>\n",
       "      <th>4</th>\n",
       "      <td>45</td>\n",
       "      <td>117</td>\n",
       "      <td>406.0</td>\n",
       "      <td>2020/12/05</td>\n",
       "    </tr>\n",
       "    <tr>\n",
       "      <th>5</th>\n",
       "      <td>60</td>\n",
       "      <td>102</td>\n",
       "      <td>300.0</td>\n",
       "      <td>&lt;NA&gt;</td>\n",
       "    </tr>\n",
       "    <tr>\n",
       "      <th>6</th>\n",
       "      <td>60</td>\n",
       "      <td>104</td>\n",
       "      <td>374.0</td>\n",
       "      <td>2020/12/07</td>\n",
       "    </tr>\n",
       "    <tr>\n",
       "      <th>7</th>\n",
       "      <td>450</td>\n",
       "      <td>109</td>\n",
       "      <td>253.3</td>\n",
       "      <td>2020/12/08</td>\n",
       "    </tr>\n",
       "    <tr>\n",
       "      <th>8</th>\n",
       "      <td>30</td>\n",
       "      <td>98</td>\n",
       "      <td>195.1</td>\n",
       "      <td>2020/12/09</td>\n",
       "    </tr>\n",
       "    <tr>\n",
       "      <th>9</th>\n",
       "      <td>60</td>\n",
       "      <td>100</td>\n",
       "      <td>269.0</td>\n",
       "      <td>2020/12/10</td>\n",
       "    </tr>\n",
       "    <tr>\n",
       "      <th>10</th>\n",
       "      <td>60</td>\n",
       "      <td>100</td>\n",
       "      <td>269.0</td>\n",
       "      <td>2020/12/10</td>\n",
       "    </tr>\n",
       "  </tbody>\n",
       "</table>\n",
       "</div>"
      ],
      "text/plain": [
       "    Duration  Pulse  Calories        Date\n",
       "0         60    110     409.1  2020/12/01\n",
       "1         60    117     479.0  2020/12/02\n",
       "2         60    103     340.0    20201203\n",
       "3         45    109     282.4  2020/12/04\n",
       "4         45    117     406.0  2020/12/05\n",
       "5         60    102     300.0        <NA>\n",
       "6         60    104     374.0  2020/12/07\n",
       "7        450    109     253.3  2020/12/08\n",
       "8         30     98     195.1  2020/12/09\n",
       "9         60    100     269.0  2020/12/10\n",
       "10        60    100     269.0  2020/12/10"
      ]
     },
     "execution_count": 3,
     "metadata": {},
     "output_type": "execute_result"
    }
   ],
   "source": [
    "df_date = pd.DataFrame({\"Duration\": [60,60,60,45,45,60,60,450,30,60,60],\n",
    "                   \"Pulse\": [110,117,103,109,117,102,104,109,98,100,100],\n",
    "                   \"Calories\": [409.1,479.0,340.0,282.4,406.0,300.0,374.0,253.3,195.1,269.0,269.0],\n",
    "                   \"Date\": ['2020/12/01','2020/12/02',\"20201203\",'2020/12/04','2020/12/05',pd.NA,'2020/12/07','2020/12/08','2020/12/09','2020/12/10','2020/12/10']})\n",
    "\n",
    "df_date"
   ]
  },
  {
   "cell_type": "code",
   "execution_count": 5,
   "id": "ec828642-5d0d-4b17-8fb6-d1f7b18d0544",
   "metadata": {},
   "outputs": [],
   "source": [
    "# df_date['Date'] = pd.to_datetime(df_date['Date'])\n",
    "\n",
    "# print(df_date)                        "
   ]
  },
  {
   "cell_type": "code",
   "execution_count": null,
   "id": "5dd59db7-5d25-4747-9f04-750ce0a1e6a6",
   "metadata": {},
   "outputs": [],
   "source": []
  },
  {
   "cell_type": "code",
   "execution_count": null,
   "id": "07a8290f-c74a-48e2-86fe-471b53475a8a",
   "metadata": {},
   "outputs": [],
   "source": []
  }
 ],
 "metadata": {
  "kernelspec": {
   "display_name": "Python 3 (ipykernel)",
   "language": "python",
   "name": "python3"
  },
  "language_info": {
   "codemirror_mode": {
    "name": "ipython",
    "version": 3
   },
   "file_extension": ".py",
   "mimetype": "text/x-python",
   "name": "python",
   "nbconvert_exporter": "python",
   "pygments_lexer": "ipython3",
   "version": "3.11.4"
  }
 },
 "nbformat": 4,
 "nbformat_minor": 5
}
