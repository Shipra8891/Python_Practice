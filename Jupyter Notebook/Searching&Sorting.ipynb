{
 "cells": [
  {
   "cell_type": "code",
   "execution_count": 2,
   "id": "81a4c3ee-0912-4022-8ff9-a9fa2342bb1a",
   "metadata": {},
   "outputs": [
    {
     "name": "stdout",
     "output_type": "stream",
     "text": [
      "2\n"
     ]
    }
   ],
   "source": [
    "# searching index\n",
    "\n",
    "numbers = [4,2,7,1,9,5]\n",
    "\n",
    "index = numbers.index(7)\n",
    "print(index)  \n",
    "\n",
    "# index of 7 is 2"
   ]
  },
  {
   "cell_type": "code",
   "execution_count": 4,
   "id": "5aa2f49d-0dd9-40ab-bd0f-04909e76a703",
   "metadata": {},
   "outputs": [
    {
     "name": "stdout",
     "output_type": "stream",
     "text": [
      " 5 is in the list\n"
     ]
    }
   ],
   "source": [
    "# searching elements\n",
    "\n",
    "numbers = [4,2,7,1,9,5]\n",
    "if 5 in numbers:\n",
    "    print(\" 5 is in the list\")"
   ]
  },
  {
   "cell_type": "code",
   "execution_count": 8,
   "id": "ff772d04-29c8-4d19-b350-041136c421b3",
   "metadata": {},
   "outputs": [
    {
     "name": "stdout",
     "output_type": "stream",
     "text": [
      "[1, 2, 4, 5, 7, 9]\n"
     ]
    }
   ],
   "source": [
    "# sorting : arrange the numbers in ascending order.\n",
    "\n",
    "numbers = [4,2,7,1,9,5]\n",
    "\n",
    "sorted_numbers = sorted(numbers)\n",
    "print(sorted_numbers)\n"
   ]
  },
  {
   "cell_type": "code",
   "execution_count": 9,
   "id": "d77f1c52-1494-48ee-bc8f-17f98e82cd13",
   "metadata": {},
   "outputs": [
    {
     "name": "stdout",
     "output_type": "stream",
     "text": [
      "[1, 2, 4, 5, 7, 9]\n"
     ]
    }
   ],
   "source": [
    "# sorting : by using sort()\n",
    "\n",
    "numbers = [4,2,7,1,9,5]\n",
    "\n",
    "numbers.sort()\n",
    "print(numbers)"
   ]
  },
  {
   "cell_type": "code",
   "execution_count": 10,
   "id": "84afd187-c4c6-44b5-8e5e-f8d52c658f6d",
   "metadata": {},
   "outputs": [
    {
     "name": "stdout",
     "output_type": "stream",
     "text": [
      "[9, 7, 5, 4, 2, 1]\n"
     ]
    }
   ],
   "source": [
    "# sorting in ascending as well as in descending order\n",
    "\n",
    "numbers = [4,2,7,1,9,5]\n",
    "\n",
    "numbers.sort(reverse=True)\n",
    "print(numbers)\n"
   ]
  },
  {
   "cell_type": "code",
   "execution_count": null,
   "id": "4901e9b8-1a06-4fa4-a9d3-8531901c3737",
   "metadata": {},
   "outputs": [],
   "source": []
  }
 ],
 "metadata": {
  "kernelspec": {
   "display_name": "Python 3 (ipykernel)",
   "language": "python",
   "name": "python3"
  },
  "language_info": {
   "codemirror_mode": {
    "name": "ipython",
    "version": 3
   },
   "file_extension": ".py",
   "mimetype": "text/x-python",
   "name": "python",
   "nbconvert_exporter": "python",
   "pygments_lexer": "ipython3",
   "version": "3.11.4"
  }
 },
 "nbformat": 4,
 "nbformat_minor": 5
}
