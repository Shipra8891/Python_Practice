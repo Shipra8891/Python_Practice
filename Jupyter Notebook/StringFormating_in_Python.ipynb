{
 "cells": [
  {
   "cell_type": "code",
   "execution_count": 1,
   "id": "a712b3d6-7bd1-41f8-a5fb-066fc8bc9da0",
   "metadata": {},
   "outputs": [],
   "source": [
    "# String formating in Python"
   ]
  },
  {
   "cell_type": "code",
   "execution_count": 14,
   "id": "ff98bc2f-a88f-461a-8111-e81b9e6619be",
   "metadata": {},
   "outputs": [
    {
     "data": {
      "text/plain": [
       "'My name is Alice and I am 20 years old. '"
      ]
     },
     "execution_count": 14,
     "metadata": {},
     "output_type": "execute_result"
    }
   ],
   "source": [
    "# string concatenation by using (+) operator\n",
    "\n",
    "name = \"Alice\"\n",
    "age = 20\n",
    "message = \"My name is \"  +   name  +   \" and I am \"  +  str(age)  +  \" years old. \"\n",
    "\n",
    "message"
   ]
  },
  {
   "cell_type": "code",
   "execution_count": 17,
   "id": "4e4a0e74-dcfb-4352-a3a5-db9d7a1441b8",
   "metadata": {},
   "outputs": [
    {
     "data": {
      "text/plain": [
       "'My name is Alice and I am 20 years old.'"
      ]
     },
     "execution_count": 17,
     "metadata": {},
     "output_type": "execute_result"
    }
   ],
   "source": [
    "# string interpolation (f-string)\n",
    "# by using curly braces{}\n",
    "\n",
    "\n",
    "name = \"Alice\"\n",
    "age = 20\n",
    "message = f\"My name is {name} and I am {age} years old.\"\n",
    "\n",
    "message"
   ]
  },
  {
   "cell_type": "code",
   "execution_count": 18,
   "id": "ae228c71-e12e-43da-9d3c-94ba85964401",
   "metadata": {},
   "outputs": [
    {
     "data": {
      "text/plain": [
       "'My name is Charlie and I am 30 years old.'"
      ]
     },
     "execution_count": 18,
     "metadata": {},
     "output_type": "execute_result"
    }
   ],
   "source": [
    "# string format\n",
    "\n",
    "name = \"Charlie\"\n",
    "age = 30\n",
    "message = \"My name is {} and I am {} years old.\".format(name,age)\n",
    "\n",
    "message"
   ]
  },
  {
   "cell_type": "code",
   "execution_count": null,
   "id": "c43697ea-1079-4b33-989f-46680cc57575",
   "metadata": {},
   "outputs": [],
   "source": []
  }
 ],
 "metadata": {
  "kernelspec": {
   "display_name": "Python 3 (ipykernel)",
   "language": "python",
   "name": "python3"
  },
  "language_info": {
   "codemirror_mode": {
    "name": "ipython",
    "version": 3
   },
   "file_extension": ".py",
   "mimetype": "text/x-python",
   "name": "python",
   "nbconvert_exporter": "python",
   "pygments_lexer": "ipython3",
   "version": "3.11.4"
  }
 },
 "nbformat": 4,
 "nbformat_minor": 5
}
