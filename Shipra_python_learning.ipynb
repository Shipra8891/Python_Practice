{
 "cells": [
  {
   "cell_type": "code",
   "execution_count": 1,
   "id": "b6a74636-3e98-4d0c-a490-820b397ff86f",
   "metadata": {},
   "outputs": [
    {
     "name": "stdout",
     "output_type": "stream",
     "text": [
      "shipra mishra has started learning python\n"
     ]
    }
   ],
   "source": [
    "print(\"shipra mishra has started learning python\")"
   ]
  },
  {
   "cell_type": "code",
   "execution_count": 2,
   "id": "85d79ac9-15c1-4064-9587-dd97f4b15693",
   "metadata": {},
   "outputs": [],
   "source": [
    "x=5"
   ]
  },
  {
   "cell_type": "code",
   "execution_count": 3,
   "id": "13c49a11-01c8-415d-b9ba-49d62fabef94",
   "metadata": {},
   "outputs": [
    {
     "name": "stdout",
     "output_type": "stream",
     "text": [
      "value of x =  5\n"
     ]
    }
   ],
   "source": [
    "print(\"value of x = \",x)"
   ]
  },
  {
   "cell_type": "code",
   "execution_count": 3,
   "id": "9c197e59-e575-45c2-a501-426d3e4ffe92",
   "metadata": {},
   "outputs": [],
   "source": [
    "l = list(range(20))"
   ]
  },
  {
   "cell_type": "code",
   "execution_count": 4,
   "id": "36834454-841b-4821-9b07-d253c864ce43",
   "metadata": {},
   "outputs": [
    {
     "data": {
      "text/plain": [
       "[0, 1, 2, 3, 4, 5, 6, 7, 8, 9, 10, 11, 12, 13, 14, 15, 16, 17, 18, 19]"
      ]
     },
     "execution_count": 4,
     "metadata": {},
     "output_type": "execute_result"
    }
   ],
   "source": [
    "l"
   ]
  },
  {
   "cell_type": "code",
   "execution_count": null,
   "id": "83dcc22d-4249-4e41-910f-ac428cd28377",
   "metadata": {},
   "outputs": [],
   "source": []
  },
  {
   "cell_type": "code",
   "execution_count": 9,
   "id": "8d635865-d6d3-44b3-9d82-2538ccc03e80",
   "metadata": {},
   "outputs": [
    {
     "data": {
      "text/plain": [
       "[5, 6, 7, 8, 9, 10, 11, 12, 13]"
      ]
     },
     "execution_count": 9,
     "metadata": {},
     "output_type": "execute_result"
    }
   ],
   "source": [
    "l[5:14]"
   ]
  },
  {
   "cell_type": "code",
   "execution_count": 11,
   "id": "77778f09-7d3c-41c9-8342-84e7382f6b15",
   "metadata": {},
   "outputs": [
    {
     "data": {
      "text/plain": [
       "[5, 7, 9, 11, 13, 15, 17]"
      ]
     },
     "execution_count": 11,
     "metadata": {},
     "output_type": "execute_result"
    }
   ],
   "source": [
    "l[5:18:2]"
   ]
  },
  {
   "cell_type": "code",
   "execution_count": 5,
   "id": "232c6b86-c1e4-4b0d-8a14-80a21041cec1",
   "metadata": {},
   "outputs": [
    {
     "data": {
      "text/plain": [
       "[5, 7, 9, 11]"
      ]
     },
     "execution_count": 5,
     "metadata": {},
     "output_type": "execute_result"
    }
   ],
   "source": [
    "l[5:12:2]"
   ]
  },
  {
   "cell_type": "code",
   "execution_count": 6,
   "id": "3e49db41-a258-45aa-b2a9-4e175d498fa6",
   "metadata": {},
   "outputs": [
    {
     "data": {
      "text/plain": [
       "[5, 8, 11, 14, 17]"
      ]
     },
     "execution_count": 6,
     "metadata": {},
     "output_type": "execute_result"
    }
   ],
   "source": [
    "l[5:18:3]"
   ]
  },
  {
   "cell_type": "code",
   "execution_count": null,
   "id": "46a000de-6c60-431f-a180-4e321e1e6a64",
   "metadata": {},
   "outputs": [],
   "source": [
    "a = 10"
   ]
  },
  {
   "cell_type": "code",
   "execution_count": null,
   "id": "bae41a9c-5c4e-47cc-ae0c-4e8fcd09be43",
   "metadata": {},
   "outputs": [],
   "source": [
    "b = 15"
   ]
  },
  {
   "cell_type": "code",
   "execution_count": 10,
   "id": "786a8130-a09e-4e16-9b41-4d029b5e3099",
   "metadata": {},
   "outputs": [
    {
     "data": {
      "text/plain": [
       "False"
      ]
     },
     "execution_count": 10,
     "metadata": {},
     "output_type": "execute_result"
    }
   ],
   "source": [
    "a==b"
   ]
  },
  {
   "cell_type": "code",
   "execution_count": 11,
   "id": "0c94d3ae-a6c4-4237-b7f2-7a413dc2d27e",
   "metadata": {},
   "outputs": [
    {
     "data": {
      "text/plain": [
       "False"
      ]
     },
     "execution_count": 11,
     "metadata": {},
     "output_type": "execute_result"
    }
   ],
   "source": [
    "a>b"
   ]
  },
  {
   "cell_type": "code",
   "execution_count": 12,
   "id": "008b42ef-2a48-4b5f-bbe8-1cdc05797bd5",
   "metadata": {},
   "outputs": [
    {
     "data": {
      "text/plain": [
       "True"
      ]
     },
     "execution_count": 12,
     "metadata": {},
     "output_type": "execute_result"
    }
   ],
   "source": [
    "a<b"
   ]
  },
  {
   "cell_type": "code",
   "execution_count": 13,
   "id": "9792164e-3c10-4954-ba57-aa477f08280f",
   "metadata": {},
   "outputs": [
    {
     "data": {
      "text/plain": [
       "True"
      ]
     },
     "execution_count": 13,
     "metadata": {},
     "output_type": "execute_result"
    }
   ],
   "source": [
    "b>a"
   ]
  },
  {
   "cell_type": "code",
   "execution_count": 14,
   "id": "02356ed2-f773-4e85-93f5-2224b9e7eed1",
   "metadata": {},
   "outputs": [
    {
     "name": "stdout",
     "output_type": "stream",
     "text": [
      "even numbers are {2}\n",
      "odd numbers are {3}\n",
      "even numbers are {4}\n",
      "odd numbers are {5}\n",
      "even numbers are {6}\n",
      "odd numbers are {7}\n",
      "even numbers are {8}\n",
      "odd numbers are {9}\n",
      "even numbers are {10}\n"
     ]
    }
   ],
   "source": [
    "list_1 = [2,3,4,5,6,7,8,9,10]\n",
    "# select one element in the list (even number)\n",
    "for number in list_1:\n",
    "    if number % 2 == 0:\n",
    "        print(\"even numbers are\", {number})\n",
    "    else:\n",
    "        print(\"odd numbers are\",{number})"
   ]
  },
  {
   "cell_type": "code",
   "execution_count": 15,
   "id": "71a1b7f6-ea17-4895-bfd3-f00c3ba0579f",
   "metadata": {},
   "outputs": [
    {
     "name": "stdout",
     "output_type": "stream",
     "text": [
      "List of numbers:\n",
      "[11, 22, 33, 44, 55, 66, 77, 88, 99, 100]\n",
      "\n",
      "List of even numbers:\n",
      "[22, 44, 66, 88, 100]\n",
      "\n",
      "List Odd numbers:\n",
      "[11, 33, 55, 77, 99]\n"
     ]
    }
   ],
   "source": [
    "numbers = [11, 22, 33, 44, 55, 66, 77, 88, 99, 100]\n",
    "print(\"List of numbers:\")\n",
    "print(numbers)\n",
    "print(\"\\nList of even numbers:\")\n",
    "evenNumbers = list(filter(lambda x: x%2 == 0, numbers))\n",
    "print(evenNumbers)\n",
    "print(\"\\nList Odd numbers:\")\n",
    "oddNumbers = list(filter(lambda x: x%2 != 0, numbers))\n",
    "print(oddNumbers)"
   ]
  },
  {
   "cell_type": "code",
   "execution_count": 3,
   "id": "f3cba428-a236-4604-8fef-6931976a864c",
   "metadata": {},
   "outputs": [
    {
     "ename": "NameError",
     "evalue": "name 'spark' is not defined",
     "output_type": "error",
     "traceback": [
      "\u001b[1;31m---------------------------------------------------------------------------\u001b[0m",
      "\u001b[1;31mNameError\u001b[0m                                 Traceback (most recent call last)",
      "Cell \u001b[1;32mIn[3], line 1\u001b[0m\n\u001b[1;32m----> 1\u001b[0m df \u001b[38;5;241m=\u001b[39m \u001b[43mspark\u001b[49m\u001b[38;5;241m.\u001b[39mcreateDataFrame([\n\u001b[0;32m      2\u001b[0m (\u001b[38;5;124m\"\u001b[39m\u001b[38;5;124m2023-01-01 10:10:10\u001b[39m\u001b[38;5;124m\"\u001b[39m,),\n\u001b[0;32m      3\u001b[0m (\u001b[38;5;124m\"\u001b[39m\u001b[38;5;124m2023-02-01 11:11:11\u001b[39m\u001b[38;5;124m\"\u001b[39m,),\n\u001b[0;32m      4\u001b[0m (\u001b[38;5;124m\"\u001b[39m\u001b[38;5;124m2023-03-01 12:12:12\u001b[39m\u001b[38;5;124m\"\u001b[39m,),\n\u001b[0;32m      5\u001b[0m (\u001b[38;5;124m\"\u001b[39m\u001b[38;5;124m2023-03-31 11:11:11\u001b[39m\u001b[38;5;124m\"\u001b[39m,),\n\u001b[0;32m      6\u001b[0m (\u001b[38;5;124m\"\u001b[39m\u001b[38;5;124m2023-01-31 11:11:11\u001b[39m\u001b[38;5;124m\"\u001b[39m,),\n\u001b[0;32m      7\u001b[0m (\u001b[38;5;124m\"\u001b[39m\u001b[38;5;124m2023-02-01 11:11:11\u001b[39m\u001b[38;5;124m\"\u001b[39m,)], [\u001b[38;5;124m\"\u001b[39m\u001b[38;5;124mtimestamp\u001b[39m\u001b[38;5;124m\"\u001b[39m])\n\u001b[0;32m      8\u001b[0m df\u001b[38;5;241m.\u001b[39mselect(df\u001b[38;5;241m.\u001b[39mtimestamp,trunc(df\u001b[38;5;241m.\u001b[39mtimestamp, \u001b[38;5;124m'\u001b[39m\u001b[38;5;124myear\u001b[39m\u001b[38;5;124m'\u001b[39m)\u001b[38;5;241m.\u001b[39malias(\u001b[38;5;124m'\u001b[39m\u001b[38;5;124myear\u001b[39m\u001b[38;5;124m'\u001b[39m))\u001b[38;5;241m.\u001b[39mshow()\n",
      "\u001b[1;31mNameError\u001b[0m: name 'spark' is not defined"
     ]
    }
   ],
   "source": [
    "df = spark.createDataFrame([\n",
    "(\"2023-01-01 10:10:10\",),\n",
    "(\"2023-02-01 11:11:11\",),\n",
    "(\"2023-03-01 12:12:12\",),\n",
    "(\"2023-03-31 11:11:11\",),\n",
    "(\"2023-01-31 11:11:11\",),\n",
    "(\"2023-02-01 11:11:11\",)], [\"timestamp\"])\n",
    "df.select(df.timestamp,trunc(df.timestamp, 'year').alias('year')).show()"
   ]
  },
  {
   "cell_type": "code",
   "execution_count": null,
   "id": "2e7bf2ce-aed0-4ea7-abaa-9ba7ac1df794",
   "metadata": {},
   "outputs": [],
   "source": []
  }
 ],
 "metadata": {
  "kernelspec": {
   "display_name": "Python 3 (ipykernel)",
   "language": "python",
   "name": "python3"
  },
  "language_info": {
   "codemirror_mode": {
    "name": "ipython",
    "version": 3
   },
   "file_extension": ".py",
   "mimetype": "text/x-python",
   "name": "python",
   "nbconvert_exporter": "python",
   "pygments_lexer": "ipython3",
   "version": "3.11.4"
  }
 },
 "nbformat": 4,
 "nbformat_minor": 5
}
