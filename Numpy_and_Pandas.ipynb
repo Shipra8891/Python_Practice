{
 "cells": [
  {
   "cell_type": "code",
   "execution_count": null,
   "id": "6761370e-6c1b-48fb-ad72-b3f1e509679f",
   "metadata": {},
   "outputs": [],
   "source": [
    "# libraries in Python\n",
    "# NumPy, pandas, matplotlib, seaborn."
   ]
  },
  {
   "cell_type": "code",
   "execution_count": 1,
   "id": "87f746f2-7c12-4713-9c29-7631fc2d80b2",
   "metadata": {},
   "outputs": [],
   "source": [
    "import numpy as np"
   ]
  },
  {
   "cell_type": "code",
   "execution_count": null,
   "id": "d2d1475e-497f-4291-8620-52f7040bc141",
   "metadata": {},
   "outputs": [],
   "source": [
    "# creating numpy array"
   ]
  },
  {
   "cell_type": "code",
   "execution_count": 2,
   "id": "da36ba8f-ace1-4ba8-968e-3fee3faa3051",
   "metadata": {},
   "outputs": [
    {
     "data": {
      "text/plain": [
       "array([1, 2, 3, 4, 5])"
      ]
     },
     "execution_count": 2,
     "metadata": {},
     "output_type": "execute_result"
    }
   ],
   "source": [
    "# Single-Dimensional Array\n",
    "\n",
    "arr = np.array([1, 2, 3, 4, 5])\n",
    "arr"
   ]
  },
  {
   "cell_type": "code",
   "execution_count": 5,
   "id": "71c9cb9b-846a-43b9-a17c-693760570dc7",
   "metadata": {},
   "outputs": [
    {
     "data": {
      "text/plain": [
       "array([[1, 2, 3],\n",
       "       [4, 5, 6]])"
      ]
     },
     "execution_count": 5,
     "metadata": {},
     "output_type": "execute_result"
    }
   ],
   "source": [
    "# Multi-Dimenional Array\n",
    "\n",
    "arr = np.array([[1, 2, 3],[4, 5, 6]])\n",
    "arr"
   ]
  },
  {
   "cell_type": "code",
   "execution_count": 6,
   "id": "73f2da26-0962-4bbc-ae0b-a6cde6d39d0f",
   "metadata": {},
   "outputs": [
    {
     "data": {
      "text/plain": [
       "array([[0., 0., 0., 0., 0.],\n",
       "       [0., 0., 0., 0., 0.],\n",
       "       [0., 0., 0., 0., 0.],\n",
       "       [0., 0., 0., 0., 0.],\n",
       "       [0., 0., 0., 0., 0.]])"
      ]
     },
     "execution_count": 6,
     "metadata": {},
     "output_type": "execute_result"
    }
   ],
   "source": [
    "# initializing with 0\n",
    "\n",
    "n1 = np.zeros((5,5))\n",
    "n1"
   ]
  },
  {
   "cell_type": "code",
   "execution_count": 7,
   "id": "eb197ce8-c92b-4755-9005-8d954c24203c",
   "metadata": {},
   "outputs": [
    {
     "data": {
      "text/plain": [
       "array([[10, 10],\n",
       "       [10, 10]])"
      ]
     },
     "execution_count": 7,
     "metadata": {},
     "output_type": "execute_result"
    }
   ],
   "source": [
    "# initializing with same number\n",
    "\n",
    "n1 = np.full((2,2),10)\n",
    "n1"
   ]
  },
  {
   "cell_type": "code",
   "execution_count": 10,
   "id": "ade9a27b-8d09-4d57-9155-7ed898e497df",
   "metadata": {},
   "outputs": [
    {
     "data": {
      "text/plain": [
       "array([[5, 5, 5],\n",
       "       [5, 5, 5],\n",
       "       [5, 5, 5],\n",
       "       [5, 5, 5]])"
      ]
     },
     "execution_count": 10,
     "metadata": {},
     "output_type": "execute_result"
    }
   ],
   "source": [
    "n1 = np.full((4,3),5)\n",
    "n1"
   ]
  },
  {
   "cell_type": "code",
   "execution_count": 11,
   "id": "2f38d7a4-143e-4ea4-88a8-e3fe94164ce0",
   "metadata": {},
   "outputs": [
    {
     "data": {
      "text/plain": [
       "array([10, 11, 12, 13, 14, 15, 16, 17, 18, 19])"
      ]
     },
     "execution_count": 11,
     "metadata": {},
     "output_type": "execute_result"
    }
   ],
   "source": [
    "# initializing within a range\n",
    "\n",
    "n1 = np.arange(10,20)\n",
    "n1"
   ]
  },
  {
   "cell_type": "code",
   "execution_count": 14,
   "id": "af53b789-3761-444a-a3e7-6b602a03608e",
   "metadata": {},
   "outputs": [
    {
     "data": {
      "text/plain": [
       "array([10, 15, 20, 25, 30, 35, 40, 45])"
      ]
     },
     "execution_count": 14,
     "metadata": {},
     "output_type": "execute_result"
    }
   ],
   "source": [
    "n1 = np.arange(10,50,5)\n",
    "n1"
   ]
  },
  {
   "cell_type": "code",
   "execution_count": 15,
   "id": "249681df-5dfc-4bd7-b78f-d3b94ba6cc4e",
   "metadata": {},
   "outputs": [],
   "source": [
    "# joining numpy array"
   ]
  },
  {
   "cell_type": "code",
   "execution_count": 16,
   "id": "cb9b91d1-78b1-4aef-8337-07a0ae276ef8",
   "metadata": {},
   "outputs": [
    {
     "data": {
      "text/plain": [
       "array([[10, 20, 30],\n",
       "       [40, 50, 60]])"
      ]
     },
     "execution_count": 16,
     "metadata": {},
     "output_type": "execute_result"
    }
   ],
   "source": [
    "# vstack()\n",
    "\n",
    "n1 = np.array([10,20,30])\n",
    "n2 = np.array([40,50,60])\n",
    "\n",
    "np.vstack((n1,n2))"
   ]
  },
  {
   "cell_type": "code",
   "execution_count": 17,
   "id": "012241ee-c3cd-4032-8694-4059680ad543",
   "metadata": {},
   "outputs": [
    {
     "data": {
      "text/plain": [
       "array([10, 20, 30, 40, 50, 60])"
      ]
     },
     "execution_count": 17,
     "metadata": {},
     "output_type": "execute_result"
    }
   ],
   "source": [
    "# hstack()\n",
    "\n",
    "n1 = np.array([10,20,30])\n",
    "n2 = np.array([40,50,60])\n",
    "\n",
    "np.hstack((n1,n2))"
   ]
  },
  {
   "cell_type": "code",
   "execution_count": 18,
   "id": "99b39c2b-0b75-4cf4-8142-4fff63d78a07",
   "metadata": {},
   "outputs": [
    {
     "data": {
      "text/plain": [
       "array([[10, 40],\n",
       "       [20, 50],\n",
       "       [30, 60]])"
      ]
     },
     "execution_count": 18,
     "metadata": {},
     "output_type": "execute_result"
    }
   ],
   "source": [
    "# column_stack()\n",
    "\n",
    "n1 = np.array([10,20,30])\n",
    "n2 = np.array([40,50,60])\n",
    "\n",
    "np.column_stack((n1,n2))"
   ]
  },
  {
   "cell_type": "code",
   "execution_count": 19,
   "id": "d1cbf78c-0462-4561-913e-07646019a46e",
   "metadata": {},
   "outputs": [],
   "source": [
    "# numpy intersection(common value) and difference (uncommon value)"
   ]
  },
  {
   "cell_type": "code",
   "execution_count": 20,
   "id": "78cc5170-f85a-4d73-a01d-4cdb3b03fd5a",
   "metadata": {},
   "outputs": [
    {
     "data": {
      "text/plain": [
       "array([40, 50, 60])"
      ]
     },
     "execution_count": 20,
     "metadata": {},
     "output_type": "execute_result"
    }
   ],
   "source": [
    "arr1 = np.array([10,20,30,40,50,60])\n",
    "arr2 = np.array([40,50,60,70,80,90])\n",
    "\n",
    "np.intersect1d(arr1,arr2)"
   ]
  },
  {
   "cell_type": "code",
   "execution_count": 21,
   "id": "0669119c-a030-443f-8866-0775d7fae2ae",
   "metadata": {},
   "outputs": [
    {
     "data": {
      "text/plain": [
       "array([10, 20, 30])"
      ]
     },
     "execution_count": 21,
     "metadata": {},
     "output_type": "execute_result"
    }
   ],
   "source": [
    "arr1 = np.array([10,20,30,40,50,60])\n",
    "arr2 = np.array([40,50,60,70,80,90])\n",
    "\n",
    "np.setdiff1d(arr1,arr2)"
   ]
  },
  {
   "cell_type": "code",
   "execution_count": 22,
   "id": "508e4e44-8311-41d0-8beb-59a5d09dabaa",
   "metadata": {},
   "outputs": [
    {
     "data": {
      "text/plain": [
       "array([70, 80, 90])"
      ]
     },
     "execution_count": 22,
     "metadata": {},
     "output_type": "execute_result"
    }
   ],
   "source": [
    "arr1 = np.array([10,20,30,40,50,60])\n",
    "arr2 = np.array([40,50,60,70,80,90])\n",
    "\n",
    "np.setdiff1d(arr2,arr1)"
   ]
  },
  {
   "cell_type": "code",
   "execution_count": 23,
   "id": "d2e89c61-1cc5-4f9f-af3e-d6af975d3828",
   "metadata": {},
   "outputs": [],
   "source": [
    "# numpy array mathematics"
   ]
  },
  {
   "cell_type": "code",
   "execution_count": 25,
   "id": "aae6aac5-e317-4fb5-99bc-25a624e205bd",
   "metadata": {},
   "outputs": [
    {
     "name": "stdout",
     "output_type": "stream",
     "text": [
      "[11 21 31]\n"
     ]
    }
   ],
   "source": [
    "#basic addition (addition to each number)\n",
    "\n",
    "n1 = np.array([10,20,30])\n",
    "n1 = n1 + 1\n",
    "print(n1)"
   ]
  },
  {
   "cell_type": "code",
   "execution_count": 26,
   "id": "52a86269-579e-4543-a77e-33fc77ab2e6a",
   "metadata": {},
   "outputs": [
    {
     "name": "stdout",
     "output_type": "stream",
     "text": [
      "[ 9 19 29]\n"
     ]
    }
   ],
   "source": [
    "# basic subtraction\n",
    "\n",
    "n1 = np.array([10,20,30])\n",
    "n1 = n1 - 1\n",
    "print(n1)\n"
   ]
  },
  {
   "cell_type": "code",
   "execution_count": 27,
   "id": "f54d8f6b-0c70-45e9-9abc-01815bae8f32",
   "metadata": {},
   "outputs": [
    {
     "name": "stdout",
     "output_type": "stream",
     "text": [
      "[20 40 60]\n"
     ]
    }
   ],
   "source": [
    "# basic multiplication\n",
    "\n",
    "n1 = np.array([10,20,30])\n",
    "n1 = n1 * 2\n",
    "print(n1)"
   ]
  },
  {
   "cell_type": "code",
   "execution_count": 28,
   "id": "cf13963b-a94e-4a82-bb62-10fe6218e99e",
   "metadata": {},
   "outputs": [
    {
     "name": "stdout",
     "output_type": "stream",
     "text": [
      "[ 5. 10. 15.]\n"
     ]
    }
   ],
   "source": [
    "# basic division\n",
    "\n",
    "n1 = np.array([10,20,30])\n",
    "n1 = n1 / 2\n",
    "print(n1)"
   ]
  },
  {
   "cell_type": "code",
   "execution_count": null,
   "id": "faf89748-b6f8-4af7-abd8-c1e86b2de471",
   "metadata": {},
   "outputs": [],
   "source": [
    "# numpy Math Functions"
   ]
  },
  {
   "cell_type": "code",
   "execution_count": 29,
   "id": "7d6bf5a5-2b94-4ab7-99ea-211260bb29f3",
   "metadata": {},
   "outputs": [
    {
     "data": {
      "text/plain": [
       "35.0"
      ]
     },
     "execution_count": 29,
     "metadata": {},
     "output_type": "execute_result"
    }
   ],
   "source": [
    "# Mean\n",
    "\n",
    "n1 = np.array([10,20,30,40,50,60])\n",
    "np.mean(n1)\n"
   ]
  },
  {
   "cell_type": "code",
   "execution_count": 30,
   "id": "125709c1-08fa-4333-a134-44579aa532f0",
   "metadata": {},
   "outputs": [
    {
     "data": {
      "text/plain": [
       "55.5"
      ]
     },
     "execution_count": 30,
     "metadata": {},
     "output_type": "execute_result"
    }
   ],
   "source": [
    "# Median\n",
    "\n",
    "n1 = np.array([11,44,5,96,67,85])\n",
    "np.median(n1)"
   ]
  },
  {
   "cell_type": "code",
   "execution_count": 31,
   "id": "9723cac7-acb7-479f-a0d3-9b158effe142",
   "metadata": {},
   "outputs": [
    {
     "data": {
      "text/plain": [
       "36.59424666377065"
      ]
     },
     "execution_count": 31,
     "metadata": {},
     "output_type": "execute_result"
    }
   ],
   "source": [
    "# Standard Deviation\n",
    "\n",
    "n1 = np.array([1,5,3,100,4,48])\n",
    "np.std(n1)"
   ]
  },
  {
   "cell_type": "code",
   "execution_count": 3,
   "id": "e0448324-e563-409e-bfe3-2e2cb566bcf2",
   "metadata": {},
   "outputs": [],
   "source": [
    "# Python Pandas - data manipulation and data analysis\n"
   ]
  },
  {
   "cell_type": "code",
   "execution_count": 39,
   "id": "dcb2f3d8-31dc-4083-aded-ee19dc836f87",
   "metadata": {},
   "outputs": [],
   "source": [
    "import pandas as pd"
   ]
  },
  {
   "cell_type": "code",
   "execution_count": 6,
   "id": "f5bc6bd2-df87-4f1a-8420-dc220c7da49a",
   "metadata": {},
   "outputs": [],
   "source": [
    "# Pandas Series Object"
   ]
  },
  {
   "cell_type": "code",
   "execution_count": 20,
   "id": "a40c897c-2e2b-4dc8-b2e5-b54496997511",
   "metadata": {},
   "outputs": [
    {
     "name": "stdout",
     "output_type": "stream",
     "text": [
      "0    10\n",
      "1    20\n",
      "2    30\n",
      "3    40\n",
      "4    50\n",
      "dtype: int64\n"
     ]
    }
   ],
   "source": [
    "# create a series from list (index and Series)\n",
    "\n",
    "data = [10,20,30,40,50]\n",
    "series = pd.Series(data)\n",
    "print(series)                 "
   ]
  },
  {
   "cell_type": "code",
   "execution_count": 21,
   "id": "be109280-c3a3-48da-9afe-fd284e2482f8",
   "metadata": {},
   "outputs": [],
   "source": [
    "# changing index"
   ]
  },
  {
   "cell_type": "code",
   "execution_count": 22,
   "id": "265ee2da-9be0-4b34-9564-eaacf322c8ab",
   "metadata": {},
   "outputs": [
    {
     "data": {
      "text/plain": [
       "0    1\n",
       "1    2\n",
       "2    3\n",
       "3    4\n",
       "4    5\n",
       "dtype: int64"
      ]
     },
     "execution_count": 22,
     "metadata": {},
     "output_type": "execute_result"
    }
   ],
   "source": [
    "s1 = pd.Series([1,2,3,4,5])\n",
    "s1"
   ]
  },
  {
   "cell_type": "code",
   "execution_count": 23,
   "id": "2ca70b9f-f1d4-437a-9ae1-d73b0714de5e",
   "metadata": {},
   "outputs": [
    {
     "data": {
      "text/plain": [
       "a    1\n",
       "b    2\n",
       "c    3\n",
       "d    4\n",
       "e    5\n",
       "dtype: int64"
      ]
     },
     "execution_count": 23,
     "metadata": {},
     "output_type": "execute_result"
    }
   ],
   "source": [
    "s1 = pd.Series([1,2,3,4,5], index = ['a','b','c','d','e'])\n",
    "s1"
   ]
  },
  {
   "cell_type": "code",
   "execution_count": 24,
   "id": "e836b62a-8eb1-42e2-b0ef-5b79ef753cc0",
   "metadata": {},
   "outputs": [],
   "source": [
    "# create a series from dictionary"
   ]
  },
  {
   "cell_type": "code",
   "execution_count": 25,
   "id": "aac44ccb-7f40-424b-bd5e-4f1ef433da1c",
   "metadata": {},
   "outputs": [
    {
     "data": {
      "text/plain": [
       "a    10\n",
       "b    20\n",
       "c    30\n",
       "d    40\n",
       "dtype: int64"
      ]
     },
     "execution_count": 25,
     "metadata": {},
     "output_type": "execute_result"
    }
   ],
   "source": [
    "pd.Series({'a':10,'b':20,'c':30,'d':40})\n"
   ]
  },
  {
   "cell_type": "code",
   "execution_count": 26,
   "id": "56202430-eb7f-481f-985f-aa950406257d",
   "metadata": {},
   "outputs": [],
   "source": [
    "# extracting individual elements"
   ]
  },
  {
   "cell_type": "code",
   "execution_count": 29,
   "id": "ea52141a-0bb6-435f-bdd3-7915890098f4",
   "metadata": {},
   "outputs": [
    {
     "data": {
      "text/plain": [
       "10"
      ]
     },
     "execution_count": 29,
     "metadata": {},
     "output_type": "execute_result"
    }
   ],
   "source": [
    "# single element/ element from back/ squence of element.\n",
    "\n",
    "s1 = pd.Series([1,2,3,4,5,6,7,8,9,10])\n",
    "s1[9]\n"
   ]
  },
  {
   "cell_type": "code",
   "execution_count": 30,
   "id": "9d79a6b4-e3b6-4dd6-bd48-bed33f47723b",
   "metadata": {},
   "outputs": [
    {
     "data": {
      "text/plain": [
       "6"
      ]
     },
     "execution_count": 30,
     "metadata": {},
     "output_type": "execute_result"
    }
   ],
   "source": [
    "s1[5]"
   ]
  },
  {
   "cell_type": "code",
   "execution_count": 33,
   "id": "044534da-f657-4bf8-bdb7-6a11a0b6038e",
   "metadata": {},
   "outputs": [
    {
     "data": {
      "text/plain": [
       "6     7\n",
       "7     8\n",
       "8     9\n",
       "9    10\n",
       "dtype: int64"
      ]
     },
     "execution_count": 33,
     "metadata": {},
     "output_type": "execute_result"
    }
   ],
   "source": [
    "s1[-4:]"
   ]
  },
  {
   "cell_type": "code",
   "execution_count": 34,
   "id": "b3001efc-b897-4d93-b8a6-df534046f84f",
   "metadata": {},
   "outputs": [
    {
     "data": {
      "text/plain": [
       "0    1\n",
       "1    2\n",
       "2    3\n",
       "3    4\n",
       "4    5\n",
       "dtype: int64"
      ]
     },
     "execution_count": 34,
     "metadata": {},
     "output_type": "execute_result"
    }
   ],
   "source": [
    "s1[0:5]"
   ]
  },
  {
   "cell_type": "code",
   "execution_count": 35,
   "id": "e7b3bae1-270e-4abb-8228-ae5a8bb7ba80",
   "metadata": {},
   "outputs": [
    {
     "data": {
      "text/plain": [
       "0    1\n",
       "1    2\n",
       "2    3\n",
       "dtype: int64"
      ]
     },
     "execution_count": 35,
     "metadata": {},
     "output_type": "execute_result"
    }
   ],
   "source": [
    "s1[:3]"
   ]
  },
  {
   "cell_type": "code",
   "execution_count": 36,
   "id": "7443fd2c-e9bf-463c-8a3b-4ddb6e389d9b",
   "metadata": {},
   "outputs": [],
   "source": [
    "# basic Maths Operation on Series"
   ]
  },
  {
   "cell_type": "code",
   "execution_count": 37,
   "id": "d763d435-b652-49a7-b86d-81c1ca63e7c0",
   "metadata": {},
   "outputs": [
    {
     "data": {
      "text/plain": [
       "0     2\n",
       "1     3\n",
       "2     4\n",
       "3     5\n",
       "4     6\n",
       "5     7\n",
       "6     8\n",
       "7     9\n",
       "8    10\n",
       "9    11\n",
       "dtype: int64"
      ]
     },
     "execution_count": 37,
     "metadata": {},
     "output_type": "execute_result"
    }
   ],
   "source": [
    "# adding\n",
    "\n",
    "s1= pd.Series([1,2,3,4,5,6,7,8,9,10])\n",
    "s1+1"
   ]
  },
  {
   "cell_type": "code",
   "execution_count": 38,
   "id": "a954b18b-6bd8-4351-827e-82020051197e",
   "metadata": {},
   "outputs": [
    {
     "data": {
      "text/plain": [
       "0     11\n",
       "1     22\n",
       "2     33\n",
       "3     44\n",
       "4     55\n",
       "5     66\n",
       "6     77\n",
       "7     88\n",
       "8     99\n",
       "9    110\n",
       "dtype: int64"
      ]
     },
     "execution_count": 38,
     "metadata": {},
     "output_type": "execute_result"
    }
   ],
   "source": [
    "s1= pd.Series([1,2,3,4,5,6,7,8,9,10])\n",
    "s2= pd.Series([10,20,30,40,50,60,70,80,90,100])\n",
    "\n",
    "s1+s2"
   ]
  },
  {
   "cell_type": "code",
   "execution_count": 41,
   "id": "b46aee38-fcb9-44ae-a502-172c8bd1b587",
   "metadata": {},
   "outputs": [],
   "source": [
    "# Pandas DataFrames - 2 dimensional data structure\n",
    "# DataFrame - comprises of rows and columns"
   ]
  },
  {
   "cell_type": "code",
   "execution_count": 43,
   "id": "55a551d2-ae80-4c13-9c65-57ef5a2bcb2a",
   "metadata": {},
   "outputs": [
    {
     "name": "stdout",
     "output_type": "stream",
     "text": [
      "   0\n",
      "0  1\n",
      "1  2\n",
      "2  3\n",
      "3  4\n",
      "4  5\n"
     ]
    }
   ],
   "source": [
    "# creating DataFrame from list\n",
    "\n",
    "data = [1,2,3,4,5,]\n",
    "df = pd.DataFrame(data)\n",
    "print(df)"
   ]
  },
  {
   "cell_type": "code",
   "execution_count": 45,
   "id": "1fa0d2fb-4b0f-4016-84a8-571d83edbf3a",
   "metadata": {},
   "outputs": [
    {
     "name": "stdout",
     "output_type": "stream",
     "text": [
      "    Name  Age      city\n",
      "0   John   25  New York\n",
      "1   Emma   30    London\n",
      "2  Peter   35     Paris\n",
      "3    Ovi   28    Sydney\n"
     ]
    }
   ],
   "source": [
    "# creating DataFrame from Dictionary\n",
    "\n",
    "data = {'Name':['John','Emma','Peter','Ovi'],\n",
    "        'Age': [25,30,35,28],\n",
    "        'city': ['New York','London','Paris','Sydney']}\n",
    "\n",
    "df = pd.DataFrame(data)\n",
    "print(df)"
   ]
  },
  {
   "cell_type": "code",
   "execution_count": null,
   "id": "67562e91-ec0a-4db2-b03a-621df8ed3c38",
   "metadata": {},
   "outputs": [],
   "source": [
    "# DataFrame in- built function - len(), head(), tail(), describe(),\n",
    "# shape(), dtypes()."
   ]
  },
  {
   "cell_type": "code",
   "execution_count": 50,
   "id": "a6bf50dc-c4a6-4e84-96f7-3e85a4e1b931",
   "metadata": {},
   "outputs": [],
   "source": [
    "# loc [] - selction of index - name matching"
   ]
  },
  {
   "cell_type": "code",
   "execution_count": 52,
   "id": "00f9fca3-a143-41c0-b820-001818bf3f4d",
   "metadata": {},
   "outputs": [
    {
     "name": "stdout",
     "output_type": "stream",
     "text": [
      "    Name  Age\n",
      "0   John   25\n",
      "1   Emma   30\n",
      "2  Peter   35\n",
      "3    Ovi   28\n"
     ]
    }
   ],
   "source": [
    "print(df.loc[0:3,('Name','Age')])"
   ]
  },
  {
   "cell_type": "code",
   "execution_count": 53,
   "id": "adfd7067-11b8-4144-9c86-50b293915bf4",
   "metadata": {},
   "outputs": [],
   "source": [
    "# iloc []- selection of index - column index also"
   ]
  },
  {
   "cell_type": "code",
   "execution_count": 57,
   "id": "ebc5a923-457a-4b88-9fed-4b1d7f6a34f1",
   "metadata": {},
   "outputs": [
    {
     "name": "stdout",
     "output_type": "stream",
     "text": [
      "    Name  Age\n",
      "0   John   25\n",
      "1   Emma   30\n",
      "2  Peter   35\n"
     ]
    }
   ],
   "source": [
    "print(df.iloc[0:3,0:2])"
   ]
  },
  {
   "cell_type": "code",
   "execution_count": 58,
   "id": "678b5afc-23bc-4bc8-b60e-8f79a6fb2d13",
   "metadata": {},
   "outputs": [],
   "source": [
    "# dropping rows/ axis"
   ]
  },
  {
   "cell_type": "code",
   "execution_count": 60,
   "id": "53b981b9-ee00-457c-9414-ea9bc32ded5f",
   "metadata": {},
   "outputs": [
    {
     "name": "stdout",
     "output_type": "stream",
     "text": [
      "    Name  Age      city\n",
      "0   John   25  New York\n",
      "1   Emma   30    London\n",
      "2  Peter   35     Paris\n",
      "3    Ovi   28    Sydney\n"
     ]
    }
   ],
   "source": [
    "\n",
    "data = {'Name':['John','Emma','Peter','Ovi'],\n",
    "        'Age': [25,30,35,28],\n",
    "        'city': ['New York','London','Paris','Sydney']}\n",
    "\n",
    "df = pd.DataFrame(data)\n",
    "print(df)"
   ]
  },
  {
   "cell_type": "code",
   "execution_count": 64,
   "id": "cdbffb1e-0e8d-4aed-9d0d-6466e009f8ff",
   "metadata": {},
   "outputs": [
    {
     "data": {
      "text/html": [
       "<div>\n",
       "<style scoped>\n",
       "    .dataframe tbody tr th:only-of-type {\n",
       "        vertical-align: middle;\n",
       "    }\n",
       "\n",
       "    .dataframe tbody tr th {\n",
       "        vertical-align: top;\n",
       "    }\n",
       "\n",
       "    .dataframe thead th {\n",
       "        text-align: right;\n",
       "    }\n",
       "</style>\n",
       "<table border=\"1\" class=\"dataframe\">\n",
       "  <thead>\n",
       "    <tr style=\"text-align: right;\">\n",
       "      <th></th>\n",
       "      <th>Name</th>\n",
       "      <th>Age</th>\n",
       "      <th>city</th>\n",
       "    </tr>\n",
       "  </thead>\n",
       "  <tbody>\n",
       "    <tr>\n",
       "      <th>1</th>\n",
       "      <td>Emma</td>\n",
       "      <td>30</td>\n",
       "      <td>London</td>\n",
       "    </tr>\n",
       "    <tr>\n",
       "      <th>2</th>\n",
       "      <td>Peter</td>\n",
       "      <td>35</td>\n",
       "      <td>Paris</td>\n",
       "    </tr>\n",
       "  </tbody>\n",
       "</table>\n",
       "</div>"
      ],
      "text/plain": [
       "    Name  Age    city\n",
       "1   Emma   30  London\n",
       "2  Peter   35   Paris"
      ]
     },
     "execution_count": 64,
     "metadata": {},
     "output_type": "execute_result"
    }
   ],
   "source": [
    "df.drop([0,3],axis=0)"
   ]
  },
  {
   "cell_type": "code",
   "execution_count": null,
   "id": "f1b6cba0-71de-417e-8bf9-10c507fb8da7",
   "metadata": {},
   "outputs": [],
   "source": [
    "# dropping columns"
   ]
  },
  {
   "cell_type": "code",
   "execution_count": 69,
   "id": "e51f7189-31b7-49d9-a69f-0b998f8809ce",
   "metadata": {},
   "outputs": [
    {
     "name": "stdout",
     "output_type": "stream",
     "text": [
      "     Name  Age      City\n",
      "0    John   25  New York\n",
      "1    Emma   30    London\n",
      "2   Peter   35     Paris\n",
      "3  Olivia   28    Sydney\n"
     ]
    }
   ],
   "source": [
    "\n",
    "data = {'Name': ['John', 'Emma', 'Peter', 'Olivia'],\n",
    "        'Age': [25, 30, 35, 28],\n",
    "        'City': ['New York', 'London', 'Paris', 'Sydney']}\n",
    "\n",
    "df = pd.DataFrame(data)\n",
    "\n",
    "print(df)"
   ]
  },
  {
   "cell_type": "code",
   "execution_count": 70,
   "id": "829edaa3-113f-4da3-9aa3-54483c8f52b9",
   "metadata": {},
   "outputs": [
    {
     "data": {
      "text/html": [
       "<div>\n",
       "<style scoped>\n",
       "    .dataframe tbody tr th:only-of-type {\n",
       "        vertical-align: middle;\n",
       "    }\n",
       "\n",
       "    .dataframe tbody tr th {\n",
       "        vertical-align: top;\n",
       "    }\n",
       "\n",
       "    .dataframe thead th {\n",
       "        text-align: right;\n",
       "    }\n",
       "</style>\n",
       "<table border=\"1\" class=\"dataframe\">\n",
       "  <thead>\n",
       "    <tr style=\"text-align: right;\">\n",
       "      <th></th>\n",
       "      <th>Name</th>\n",
       "      <th>Age</th>\n",
       "    </tr>\n",
       "  </thead>\n",
       "  <tbody>\n",
       "    <tr>\n",
       "      <th>0</th>\n",
       "      <td>John</td>\n",
       "      <td>25</td>\n",
       "    </tr>\n",
       "    <tr>\n",
       "      <th>1</th>\n",
       "      <td>Emma</td>\n",
       "      <td>30</td>\n",
       "    </tr>\n",
       "    <tr>\n",
       "      <th>2</th>\n",
       "      <td>Peter</td>\n",
       "      <td>35</td>\n",
       "    </tr>\n",
       "    <tr>\n",
       "      <th>3</th>\n",
       "      <td>Olivia</td>\n",
       "      <td>28</td>\n",
       "    </tr>\n",
       "  </tbody>\n",
       "</table>\n",
       "</div>"
      ],
      "text/plain": [
       "     Name  Age\n",
       "0    John   25\n",
       "1    Emma   30\n",
       "2   Peter   35\n",
       "3  Olivia   28"
      ]
     },
     "execution_count": 70,
     "metadata": {},
     "output_type": "execute_result"
    }
   ],
   "source": [
    "df.drop(['City'],axis=1)"
   ]
  },
  {
   "cell_type": "code",
   "execution_count": 72,
   "id": "138a27f3-2599-4004-89bd-ed26eb5255c6",
   "metadata": {},
   "outputs": [],
   "source": [
    "# adding new column to DataFrame."
   ]
  },
  {
   "cell_type": "code",
   "execution_count": 93,
   "id": "945f2021-dc3d-4a4a-aad9-ff5233408e24",
   "metadata": {},
   "outputs": [
    {
     "name": "stdout",
     "output_type": "stream",
     "text": [
      "     Name  Age      City\n",
      "0    John   25  New York\n",
      "1    Emma   30    London\n",
      "2   Peter   35     Paris\n",
      "3  Olivia   28    Sydney\n"
     ]
    }
   ],
   "source": [
    "data = {'Name': ['John', 'Emma', 'Peter', 'Olivia'],\n",
    "        'Age': [25, 30, 35, 28],\n",
    "        'City': ['New York', 'London', 'Paris', 'Sydney']}\n",
    "df = pd.DataFrame(data)\n",
    "\n",
    "print(df)"
   ]
  },
  {
   "cell_type": "code",
   "execution_count": 94,
   "id": "a660bbfc-124b-4eae-b492-5822d21928fd",
   "metadata": {},
   "outputs": [
    {
     "name": "stdout",
     "output_type": "stream",
     "text": [
      "     Name  Age      City    Country\n",
      "0    John   25  New York        USA\n",
      "1    Emma   30    London         UK\n",
      "2   Peter   35     Paris     France\n",
      "3  Olivia   28    Sydney  Australia\n"
     ]
    }
   ],
   "source": [
    "df['Country'] = ['USA', 'UK', 'France', 'Australia']\n",
    "print(df)"
   ]
  },
  {
   "cell_type": "code",
   "execution_count": 75,
   "id": "0b12d0c7-cb63-4902-bab0-eae6d97d1f74",
   "metadata": {},
   "outputs": [],
   "source": [
    "# modifying values in DataFrame"
   ]
  },
  {
   "cell_type": "code",
   "execution_count": 95,
   "id": "9ec84e30-eb38-4de1-a946-52bdeb15a8ff",
   "metadata": {},
   "outputs": [
    {
     "name": "stdout",
     "output_type": "stream",
     "text": [
      "     Name  Age      City    Country\n",
      "0    John   26  New York        USA\n",
      "1    Emma   31    London         UK\n",
      "2   Peter   36     Paris     France\n",
      "3  Olivia   29    Sydney  Australia\n"
     ]
    }
   ],
   "source": [
    "df ['Age'] = [26,31,36,29]\n",
    "print(df)"
   ]
  },
  {
   "cell_type": "code",
   "execution_count": 96,
   "id": "69fa1322-9540-4141-8ee3-43e1940f700f",
   "metadata": {},
   "outputs": [
    {
     "name": "stdout",
     "output_type": "stream",
     "text": [
      "     Name  Age     City    Country\n",
      "0    John   26  Chicago        USA\n",
      "1    Emma   31   London         UK\n",
      "2   Peter   36    Paris     France\n",
      "3  Olivia   29   Sydney  Australia\n"
     ]
    }
   ],
   "source": [
    "df.loc[0, 'City'] = 'Chicago'\n",
    "print(df)"
   ]
  },
  {
   "cell_type": "code",
   "execution_count": 97,
   "id": "b2ff4a8b-756e-4ef9-9b7a-676ad67dac16",
   "metadata": {},
   "outputs": [],
   "source": [
    "# filtering rows in a DataFrame"
   ]
  },
  {
   "cell_type": "code",
   "execution_count": 98,
   "id": "02f09927-4c96-429f-ac56-1a6d3cbe4521",
   "metadata": {},
   "outputs": [
    {
     "name": "stdout",
     "output_type": "stream",
     "text": [
      "    Name  Age    City Country\n",
      "1   Emma   31  London      UK\n",
      "2  Peter   36   Paris  France\n"
     ]
    }
   ],
   "source": [
    "filtered_df = df[df['Age']>30]\n",
    "print(filtered_df)"
   ]
  },
  {
   "cell_type": "code",
   "execution_count": 99,
   "id": "39f7f8b5-1fb1-46a1-9cc9-bf885f8ce705",
   "metadata": {},
   "outputs": [
    {
     "data": {
      "text/html": [
       "<div>\n",
       "<style scoped>\n",
       "    .dataframe tbody tr th:only-of-type {\n",
       "        vertical-align: middle;\n",
       "    }\n",
       "\n",
       "    .dataframe tbody tr th {\n",
       "        vertical-align: top;\n",
       "    }\n",
       "\n",
       "    .dataframe thead th {\n",
       "        text-align: right;\n",
       "    }\n",
       "</style>\n",
       "<table border=\"1\" class=\"dataframe\">\n",
       "  <thead>\n",
       "    <tr style=\"text-align: right;\">\n",
       "      <th></th>\n",
       "      <th>Name</th>\n",
       "      <th>Age</th>\n",
       "      <th>Height</th>\n",
       "      <th>Weight</th>\n",
       "    </tr>\n",
       "  </thead>\n",
       "  <tbody>\n",
       "    <tr>\n",
       "      <th>0</th>\n",
       "      <td>John</td>\n",
       "      <td>25</td>\n",
       "      <td>170</td>\n",
       "      <td>70</td>\n",
       "    </tr>\n",
       "    <tr>\n",
       "      <th>1</th>\n",
       "      <td>Emma</td>\n",
       "      <td>30</td>\n",
       "      <td>165</td>\n",
       "      <td>65</td>\n",
       "    </tr>\n",
       "    <tr>\n",
       "      <th>2</th>\n",
       "      <td>Peter</td>\n",
       "      <td>35</td>\n",
       "      <td>180</td>\n",
       "      <td>80</td>\n",
       "    </tr>\n",
       "    <tr>\n",
       "      <th>3</th>\n",
       "      <td>Ovi</td>\n",
       "      <td>28</td>\n",
       "      <td>175</td>\n",
       "      <td>75</td>\n",
       "    </tr>\n",
       "  </tbody>\n",
       "</table>\n",
       "</div>"
      ],
      "text/plain": [
       "    Name  Age  Height  Weight\n",
       "0   John   25     170      70\n",
       "1   Emma   30     165      65\n",
       "2  Peter   35     180      80\n",
       "3    Ovi   28     175      75"
      ]
     },
     "execution_count": 99,
     "metadata": {},
     "output_type": "execute_result"
    }
   ],
   "source": [
    "data = {'Name': ['John', 'Emma', 'Peter', 'Ovi'],\n",
    "        'Age': [25, 30, 35, 28],\n",
    "        'Height': [170, 165, 180, 175],\n",
    "        'Weight': [70, 65, 80, 75]}\n",
    "df = pd.DataFrame(data)\n",
    "df"
   ]
  },
  {
   "cell_type": "code",
   "execution_count": 100,
   "id": "76c59948-a169-44ac-979e-7168db15a387",
   "metadata": {},
   "outputs": [
    {
     "data": {
      "text/plain": [
       "Name      Emma\n",
       "Age         25\n",
       "Height     165\n",
       "Weight      65\n",
       "dtype: object"
      ]
     },
     "execution_count": 100,
     "metadata": {},
     "output_type": "execute_result"
    }
   ],
   "source": [
    "df.min()"
   ]
  },
  {
   "cell_type": "code",
   "execution_count": 101,
   "id": "5411cb36-ec35-4360-b951-b6cbfd1f20aa",
   "metadata": {},
   "outputs": [
    {
     "data": {
      "text/plain": [
       "Name      Peter\n",
       "Age          35\n",
       "Height      180\n",
       "Weight       80\n",
       "dtype: object"
      ]
     },
     "execution_count": 101,
     "metadata": {},
     "output_type": "execute_result"
    }
   ],
   "source": [
    "df.max()"
   ]
  },
  {
   "cell_type": "code",
   "execution_count": 102,
   "id": "bb3b52b2-4260-475c-9cfd-8e6225842a15",
   "metadata": {},
   "outputs": [
    {
     "data": {
      "text/html": [
       "<div>\n",
       "<style scoped>\n",
       "    .dataframe tbody tr th:only-of-type {\n",
       "        vertical-align: middle;\n",
       "    }\n",
       "\n",
       "    .dataframe tbody tr th {\n",
       "        vertical-align: top;\n",
       "    }\n",
       "\n",
       "    .dataframe thead th {\n",
       "        text-align: right;\n",
       "    }\n",
       "</style>\n",
       "<table border=\"1\" class=\"dataframe\">\n",
       "  <thead>\n",
       "    <tr style=\"text-align: right;\">\n",
       "      <th></th>\n",
       "      <th>Name</th>\n",
       "      <th>Age</th>\n",
       "      <th>Height</th>\n",
       "      <th>Weight</th>\n",
       "    </tr>\n",
       "  </thead>\n",
       "  <tbody>\n",
       "    <tr>\n",
       "      <th>0</th>\n",
       "      <td>John</td>\n",
       "      <td>25</td>\n",
       "      <td>170</td>\n",
       "      <td>70</td>\n",
       "    </tr>\n",
       "    <tr>\n",
       "      <th>1</th>\n",
       "      <td>Emma</td>\n",
       "      <td>30</td>\n",
       "      <td>165</td>\n",
       "      <td>65</td>\n",
       "    </tr>\n",
       "    <tr>\n",
       "      <th>2</th>\n",
       "      <td>Peter</td>\n",
       "      <td>35</td>\n",
       "      <td>180</td>\n",
       "      <td>80</td>\n",
       "    </tr>\n",
       "    <tr>\n",
       "      <th>3</th>\n",
       "      <td>Ovi</td>\n",
       "      <td>28</td>\n",
       "      <td>175</td>\n",
       "      <td>75</td>\n",
       "    </tr>\n",
       "  </tbody>\n",
       "</table>\n",
       "</div>"
      ],
      "text/plain": [
       "    Name  Age  Height  Weight\n",
       "0   John   25     170      70\n",
       "1   Emma   30     165      65\n",
       "2  Peter   35     180      80\n",
       "3    Ovi   28     175      75"
      ]
     },
     "execution_count": 102,
     "metadata": {},
     "output_type": "execute_result"
    }
   ],
   "source": [
    "df"
   ]
  },
  {
   "cell_type": "code",
   "execution_count": 103,
   "id": "eb8b5fdf-1872-483f-a3c4-b8c3c00841ee",
   "metadata": {},
   "outputs": [
    {
     "data": {
      "text/html": [
       "<div>\n",
       "<style scoped>\n",
       "    .dataframe tbody tr th:only-of-type {\n",
       "        vertical-align: middle;\n",
       "    }\n",
       "\n",
       "    .dataframe tbody tr th {\n",
       "        vertical-align: top;\n",
       "    }\n",
       "\n",
       "    .dataframe thead th {\n",
       "        text-align: right;\n",
       "    }\n",
       "</style>\n",
       "<table border=\"1\" class=\"dataframe\">\n",
       "  <thead>\n",
       "    <tr style=\"text-align: right;\">\n",
       "      <th></th>\n",
       "      <th>Age</th>\n",
       "      <th>Height</th>\n",
       "      <th>Weight</th>\n",
       "    </tr>\n",
       "  </thead>\n",
       "  <tbody>\n",
       "    <tr>\n",
       "      <th>0</th>\n",
       "      <td>25</td>\n",
       "      <td>170</td>\n",
       "      <td>70</td>\n",
       "    </tr>\n",
       "    <tr>\n",
       "      <th>1</th>\n",
       "      <td>30</td>\n",
       "      <td>165</td>\n",
       "      <td>65</td>\n",
       "    </tr>\n",
       "    <tr>\n",
       "      <th>2</th>\n",
       "      <td>35</td>\n",
       "      <td>180</td>\n",
       "      <td>80</td>\n",
       "    </tr>\n",
       "    <tr>\n",
       "      <th>3</th>\n",
       "      <td>28</td>\n",
       "      <td>175</td>\n",
       "      <td>75</td>\n",
       "    </tr>\n",
       "  </tbody>\n",
       "</table>\n",
       "</div>"
      ],
      "text/plain": [
       "   Age  Height  Weight\n",
       "0   25     170      70\n",
       "1   30     165      65\n",
       "2   35     180      80\n",
       "3   28     175      75"
      ]
     },
     "execution_count": 103,
     "metadata": {},
     "output_type": "execute_result"
    }
   ],
   "source": [
    "df[['Age', 'Height', 'Weight']]"
   ]
  },
  {
   "cell_type": "code",
   "execution_count": 105,
   "id": "e50d1573-0be9-4731-84c2-1340f22f8490",
   "metadata": {},
   "outputs": [],
   "source": [
    "def half(s):\n",
    "    return s*0.5"
   ]
  },
  {
   "cell_type": "code",
   "execution_count": 106,
   "id": "b9092b94-13ba-4e93-8797-813f20e3e37a",
   "metadata": {},
   "outputs": [
    {
     "data": {
      "text/html": [
       "<div>\n",
       "<style scoped>\n",
       "    .dataframe tbody tr th:only-of-type {\n",
       "        vertical-align: middle;\n",
       "    }\n",
       "\n",
       "    .dataframe tbody tr th {\n",
       "        vertical-align: top;\n",
       "    }\n",
       "\n",
       "    .dataframe thead th {\n",
       "        text-align: right;\n",
       "    }\n",
       "</style>\n",
       "<table border=\"1\" class=\"dataframe\">\n",
       "  <thead>\n",
       "    <tr style=\"text-align: right;\">\n",
       "      <th></th>\n",
       "      <th>Age</th>\n",
       "      <th>Height</th>\n",
       "      <th>Weight</th>\n",
       "    </tr>\n",
       "  </thead>\n",
       "  <tbody>\n",
       "    <tr>\n",
       "      <th>0</th>\n",
       "      <td>12.5</td>\n",
       "      <td>85.0</td>\n",
       "      <td>35.0</td>\n",
       "    </tr>\n",
       "    <tr>\n",
       "      <th>1</th>\n",
       "      <td>15.0</td>\n",
       "      <td>82.5</td>\n",
       "      <td>32.5</td>\n",
       "    </tr>\n",
       "    <tr>\n",
       "      <th>2</th>\n",
       "      <td>17.5</td>\n",
       "      <td>90.0</td>\n",
       "      <td>40.0</td>\n",
       "    </tr>\n",
       "    <tr>\n",
       "      <th>3</th>\n",
       "      <td>14.0</td>\n",
       "      <td>87.5</td>\n",
       "      <td>37.5</td>\n",
       "    </tr>\n",
       "  </tbody>\n",
       "</table>\n",
       "</div>"
      ],
      "text/plain": [
       "    Age  Height  Weight\n",
       "0  12.5    85.0    35.0\n",
       "1  15.0    82.5    32.5\n",
       "2  17.5    90.0    40.0\n",
       "3  14.0    87.5    37.5"
      ]
     },
     "execution_count": 106,
     "metadata": {},
     "output_type": "execute_result"
    }
   ],
   "source": [
    "df[['Age', 'Height', 'Weight']].apply(half)"
   ]
  },
  {
   "cell_type": "code",
   "execution_count": 107,
   "id": "c5c2fefa-9d0e-4ea6-b40e-fd18704b21cc",
   "metadata": {},
   "outputs": [
    {
     "data": {
      "text/html": [
       "<div>\n",
       "<style scoped>\n",
       "    .dataframe tbody tr th:only-of-type {\n",
       "        vertical-align: middle;\n",
       "    }\n",
       "\n",
       "    .dataframe tbody tr th {\n",
       "        vertical-align: top;\n",
       "    }\n",
       "\n",
       "    .dataframe thead th {\n",
       "        text-align: right;\n",
       "    }\n",
       "</style>\n",
       "<table border=\"1\" class=\"dataframe\">\n",
       "  <thead>\n",
       "    <tr style=\"text-align: right;\">\n",
       "      <th></th>\n",
       "      <th>Name</th>\n",
       "      <th>Age</th>\n",
       "      <th>City</th>\n",
       "    </tr>\n",
       "  </thead>\n",
       "  <tbody>\n",
       "    <tr>\n",
       "      <th>0</th>\n",
       "      <td>John</td>\n",
       "      <td>25</td>\n",
       "      <td>New York</td>\n",
       "    </tr>\n",
       "    <tr>\n",
       "      <th>1</th>\n",
       "      <td>Emma</td>\n",
       "      <td>30</td>\n",
       "      <td>London</td>\n",
       "    </tr>\n",
       "    <tr>\n",
       "      <th>2</th>\n",
       "      <td>Peter</td>\n",
       "      <td>35</td>\n",
       "      <td>Paris</td>\n",
       "    </tr>\n",
       "    <tr>\n",
       "      <th>3</th>\n",
       "      <td>Olivia</td>\n",
       "      <td>28</td>\n",
       "      <td>Sydney</td>\n",
       "    </tr>\n",
       "    <tr>\n",
       "      <th>4</th>\n",
       "      <td>John</td>\n",
       "      <td>25</td>\n",
       "      <td>New York</td>\n",
       "    </tr>\n",
       "    <tr>\n",
       "      <th>5</th>\n",
       "      <td>Emma</td>\n",
       "      <td>30</td>\n",
       "      <td>London</td>\n",
       "    </tr>\n",
       "  </tbody>\n",
       "</table>\n",
       "</div>"
      ],
      "text/plain": [
       "     Name  Age      City\n",
       "0    John   25  New York\n",
       "1    Emma   30    London\n",
       "2   Peter   35     Paris\n",
       "3  Olivia   28    Sydney\n",
       "4    John   25  New York\n",
       "5    Emma   30    London"
      ]
     },
     "execution_count": 107,
     "metadata": {},
     "output_type": "execute_result"
    }
   ],
   "source": [
    "data = {'Name': ['John', 'Emma', 'Peter', 'Olivia', 'John', 'Emma'],\n",
    "        'Age': [25, 30, 35, 28, 25, 30],\n",
    "        'City': ['New York', 'London', 'Paris', 'Sydney', 'New York', 'London']}\n",
    "df = pd.DataFrame(data)\n",
    "df"
   ]
  },
  {
   "cell_type": "code",
   "execution_count": 108,
   "id": "d86d4915-d924-47fc-9f0c-924cb5f54a87",
   "metadata": {},
   "outputs": [
    {
     "name": "stdout",
     "output_type": "stream",
     "text": [
      "Name\n",
      "John      2\n",
      "Emma      2\n",
      "Peter     1\n",
      "Olivia    1\n",
      "Name: count, dtype: int64\n"
     ]
    }
   ],
   "source": [
    "print(df['Name'].value_counts())"
   ]
  },
  {
   "cell_type": "code",
   "execution_count": 109,
   "id": "6165cc3e-1c74-414f-a798-91f052c4716c",
   "metadata": {},
   "outputs": [
    {
     "name": "stdout",
     "output_type": "stream",
     "text": [
      "     Name  Age      City\n",
      "0    John   25  New York\n",
      "4    John   25  New York\n",
      "3  Olivia   28    Sydney\n",
      "1    Emma   30    London\n",
      "5    Emma   30    London\n",
      "2   Peter   35     Paris\n"
     ]
    }
   ],
   "source": [
    "print(df.sort_values(by='Age'))"
   ]
  },
  {
   "cell_type": "code",
   "execution_count": 110,
   "id": "62909318-4177-4011-8403-1fee1c0a12ec",
   "metadata": {},
   "outputs": [
    {
     "name": "stdout",
     "output_type": "stream",
     "text": [
      "     Name  Age      City\n",
      "1    Emma   30    London\n",
      "5    Emma   30    London\n",
      "0    John   25  New York\n",
      "4    John   25  New York\n",
      "3  Olivia   28    Sydney\n",
      "2   Peter   35     Paris\n"
     ]
    }
   ],
   "source": [
    "print(df.sort_values(by='Name'))"
   ]
  },
  {
   "cell_type": "code",
   "execution_count": 112,
   "id": "4009221b-14b0-4ed9-b32c-1525096d80c4",
   "metadata": {},
   "outputs": [],
   "source": []
  },
  {
   "cell_type": "code",
   "execution_count": null,
   "id": "dac21962-6bd4-4a49-a347-e42632c35ee3",
   "metadata": {},
   "outputs": [],
   "source": []
  }
 ],
 "metadata": {
  "kernelspec": {
   "display_name": "Python 3 (ipykernel)",
   "language": "python",
   "name": "python3"
  },
  "language_info": {
   "codemirror_mode": {
    "name": "ipython",
    "version": 3
   },
   "file_extension": ".py",
   "mimetype": "text/x-python",
   "name": "python",
   "nbconvert_exporter": "python",
   "pygments_lexer": "ipython3",
   "version": "3.11.4"
  }
 },
 "nbformat": 4,
 "nbformat_minor": 5
}
